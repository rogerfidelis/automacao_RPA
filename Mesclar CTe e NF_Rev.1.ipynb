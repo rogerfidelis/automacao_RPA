{
 "cells": [
  {
   "cell_type": "markdown",
   "id": "23c298c7",
   "metadata": {},
   "source": [
    "Passo 1: Importar bibliotecas"
   ]
  },
  {
   "cell_type": "code",
   "execution_count": 2,
   "id": "923e7c47",
   "metadata": {
    "scrolled": true
   },
   "outputs": [],
   "source": [
    "import PyPDF2 as pyf\n",
    "from pathlib import Path\n",
    "import pandas as pd\n",
    "import os\n",
    "\n",
    "tecnolog= r'C:\\Users\\roger'\n",
    "roger= r'\\\\digicorner.intra\\br_fileserver\\Departamentos_M32\\2362-Supply Chain\\2332-Supply Chain JV DOFCON\\Geral\\21. Contratos\\Roger França'\n",
    "project_workshop_officer=r'\\\\digicorner.intra\\br_fileserver\\Departamentos_M32\\2362-Supply Chain\\2332-Supply Chain JV DOFCON\\Geral\\21. Contratos\\Roger França\\project_workshop_management'\n"
   ]
  },
  {
   "cell_type": "markdown",
   "id": "e2e73f5c",
   "metadata": {},
   "source": [
    "Passo 2: Localizar o diretório onde se encontram as pastas das medições semanais das DACTEs"
   ]
  },
  {
   "cell_type": "code",
   "execution_count": 5,
   "id": "e6c2bdb7",
   "metadata": {},
   "outputs": [
    {
     "name": "stdout",
     "output_type": "stream",
     "text": [
      "Operação realizada\n"
     ]
    }
   ],
   "source": [
    "os.chdir(tecnolog)\n",
    "os.getcwd()\n",
    "medicao= 'automacoes_notas'  #Atualizar a pasta antes de rodar o código\n",
    "caminho = Path(f'{tecnolog}/{medicao}')\n",
    "\n",
    "print('Operação realizada')\n"
   ]
  },
  {
   "cell_type": "markdown",
   "id": "175fbe2c",
   "metadata": {},
   "source": [
    "Passo 3: listar os arquivos da pasta"
   ]
  },
  {
   "cell_type": "code",
   "execution_count": 9,
   "id": "ad6f099f",
   "metadata": {},
   "outputs": [
    {
     "data": {
      "text/plain": [
       "['CTE_002764.pdf',\n",
       " 'CTE_035816.pdf',\n",
       " 'CTE_035856.pdf',\n",
       " 'CTE_036161.pdf',\n",
       " 'CTE_036288.pdf']"
      ]
     },
     "metadata": {},
     "output_type": "display_data"
    },
    {
     "name": "stdout",
     "output_type": "stream",
     "text": [
      "5\n"
     ]
    },
    {
     "data": {
      "text/plain": [
       "['CTE_002764.pdf NF_17296-0.pdf',\n",
       " 'CTE_035816.pdf NF_19751-1.pdf',\n",
       " 'CTE_035856.pdf NF_1281-1.pdf',\n",
       " 'CTE_036161.pdf NF_15452-1.pdf',\n",
       " 'CTE_036288.pdf NF_10769-1.pdf']"
      ]
     },
     "metadata": {},
     "output_type": "display_data"
    },
    {
     "name": "stdout",
     "output_type": "stream",
     "text": [
      "5\n"
     ]
    }
   ],
   "source": [
    "arquivos = caminho.iterdir()\n",
    "\n",
    "cte= []\n",
    "nf= []\n",
    "\n",
    "\n",
    "for arquivo in arquivos:\n",
    "    a= str(arquivo)\n",
    "    if not 'NF_' in a:\n",
    "        cte.append(a[32:])\n",
    "    else:\n",
    "        nf.append(a[32:])\n",
    "       \n",
    "display(cte)\n",
    "print(len(cte))\n",
    "display(nf)\n",
    "print(len(nf))\n"
   ]
  },
  {
   "cell_type": "markdown",
   "id": "65a79584",
   "metadata": {},
   "source": [
    "Passo 4: Criar pasta no diretório para armazenar os arquivos mesclados e mesclar os arquivos (DACTEs com suas respectivas notas fiscais)"
   ]
  },
  {
   "cell_type": "code",
   "execution_count": 18,
   "id": "6bb5a9fa",
   "metadata": {},
   "outputs": [
    {
     "name": "stdout",
     "output_type": "stream",
     "text": [
      "5\n",
      "20\n"
     ]
    }
   ],
   "source": [
    "in_if= 0\n",
    "in_else= 0\n",
    "\n",
    "Path(f'{caminho}/ctes_nfs').mkdir()\n",
    "\n",
    "\n",
    "Q= 1\n",
    "for i in enumerate(cte):\n",
    "    novo_pdf= pyf.PdfFileWriter()\n",
    "   \n",
    "    cte_pdf= pyf.PdfFileReader(f'{caminho}/{i[1]}')\n",
    "    k= cte_pdf.pages[0]\n",
    "    novo_pdf.addPage(k)\n",
    "        \n",
    "    for j in nf:\n",
    "        if i[1] in j:\n",
    "            nf_pdf= pyf.PdfFileReader(f'{caminho}/{j}')\n",
    "            in_if= in_if +1\n",
    "            for w in nf_pdf.pages:\n",
    "                novo_pdf.addPage(w)\n",
    "        else:\n",
    "            in_else= in_else+1   \n",
    "\n",
    "       \n",
    "        with Path(f'{caminho}/ctes_nfs/mesclado_{i[1]}').open(mode= 'wb') as arquivo_final:\n",
    "            novo_pdf.write(arquivo_final) \n",
    "print(in_if)\n",
    "print(in_else)\n"
   ]
  },
  {
   "cell_type": "code",
   "execution_count": null,
   "id": "a04c466f",
   "metadata": {},
   "outputs": [],
   "source": []
  }
 ],
 "metadata": {
  "kernelspec": {
   "display_name": "Python 3",
   "language": "python",
   "name": "python3"
  },
  "language_info": {
   "codemirror_mode": {
    "name": "ipython",
    "version": 3
   },
   "file_extension": ".py",
   "mimetype": "text/x-python",
   "name": "python",
   "nbconvert_exporter": "python",
   "pygments_lexer": "ipython3",
   "version": "3.8.8"
  }
 },
 "nbformat": 4,
 "nbformat_minor": 5
}
