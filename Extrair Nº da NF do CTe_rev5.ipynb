{
 "cells": [
  {
   "cell_type": "markdown",
   "id": "5383ebc7",
   "metadata": {},
   "source": []
  },
  {
   "cell_type": "markdown",
   "id": "9c50b923",
   "metadata": {},
   "source": [
    "Passo 1: importar bibliotecas"
   ]
  },
  {
   "cell_type": "code",
   "execution_count": 1,
   "id": "b613871d",
   "metadata": {},
   "outputs": [],
   "source": [
    "import pandas as pd\n",
    "from pathlib import Path\n",
    "import os\n",
    "\n",
    "from pdfminer.pdfinterp import PDFResourceManager, PDFPageInterpreter\n",
    "from pdfminer.layout import LAParams\n",
    "from pdfminer.converter import TextConverter\n",
    "from io import StringIO\n",
    "from pdfminer.pdfpage import PDFPage\n"
   ]
  },
  {
   "cell_type": "markdown",
   "id": "50dbdb9d",
   "metadata": {},
   "source": [
    "Passo 2: Localizar o diretório onde se encontram as pastas das medições semanais das DACTEs e NFs"
   ]
  },
  {
   "cell_type": "code",
   "execution_count": 2,
   "id": "d8bf9a16",
   "metadata": {},
   "outputs": [
    {
     "name": "stdout",
     "output_type": "stream",
     "text": [
      "Operação realizada\n"
     ]
    }
   ],
   "source": [
    "medicao= 'automacoes_notas'  #Atualizar a pasta antes de rodar o código\n",
    "caminho = Path(f'{medicao}')\n",
    "tecnolog= r'C:\\Users\\roger'\n",
    "medicao_1= r'\\\\digicorner.intra\\br_fileserver\\Departamentos_M32\\2362-Supply Chain\\2332-Supply Chain JV DOFCON\\Geral\\21. Contratos\\1. Categorias\\2020\\5. Transporte Fracionado - TECNOLOG'\n",
    "print('Operação realizada')\n"
   ]
  },
  {
   "cell_type": "code",
   "execution_count": 3,
   "id": "c161525d",
   "metadata": {},
   "outputs": [
    {
     "data": {
      "text/plain": [
       "'C:\\\\Users\\\\roger'"
      ]
     },
     "execution_count": 3,
     "metadata": {},
     "output_type": "execute_result"
    }
   ],
   "source": [
    "os.chdir(tecnolog)\n",
    "os.getcwd()\n"
   ]
  },
  {
   "cell_type": "markdown",
   "id": "f6a068d3",
   "metadata": {},
   "source": [
    "Passo 3: listar os arquivos da pasta"
   ]
  },
  {
   "cell_type": "code",
   "execution_count": 7,
   "id": "b76f408c",
   "metadata": {
    "scrolled": true
   },
   "outputs": [
    {
     "name": "stdout",
     "output_type": "stream",
     "text": [
      "10769-1.pdf\n",
      "1281-1.pdf\n",
      "15452-1.pdf\n",
      "17296-0.pdf\n",
      "19751-1.pdf\n",
      "CTE_002764.pdf\n",
      "CTE_035816.pdf\n",
      "CTE_035856.pdf\n",
      "CTE_036161.pdf\n",
      "CTE_036288.pdf\n",
      "0\n"
     ]
    }
   ],
   "source": [
    "arquivos = caminho.iterdir()\n",
    "\n",
    "all_files= []\n",
    "\n",
    "i=0\n",
    "for arquivo in arquivos:\n",
    "    a= str(arquivo)\n",
    "    all_files.append(a[17:])\n",
    "    print(a[17:])\n",
    "print(i)\n"
   ]
  },
  {
   "cell_type": "code",
   "execution_count": null,
   "id": "1338d83d",
   "metadata": {},
   "outputs": [],
   "source": [
    "10260-1.pdf\n",
    "10267-1.pdf\n",
    "116991-1.pdf\n",
    "116992-1.pdf\n",
    "132410.pdf\n",
    "167132-25.pdf\n",
    "17463-1.pdf\n",
    "17465-1.pdf\n",
    "17466-1.pdf\n",
    "17467-1.pdf\n",
    "17472-1.pdf\n",
    "18939-1.pdf\n",
    "23041-1.pdf\n",
    "262955-1.pdf\n",
    "36913-1.pdf\n",
    "698216-3.pdf\n",
    "84412-3.pdf\n",
    "91005-1.pdf\n",
    "95700-1.pdf"
   ]
  },
  {
   "cell_type": "code",
   "execution_count": 18,
   "id": "19c1ae1b",
   "metadata": {},
   "outputs": [],
   "source": [
    "Passo 4: Ativar o modo leitura dos arquivos PDF"
   ]
  },
  {
   "cell_type": "code",
   "execution_count": 8,
   "id": "8c34f8d5",
   "metadata": {},
   "outputs": [],
   "source": [
    "def get_pdf_file_content(path_to_pdf):\n",
    "    \n",
    "    '''\n",
    "    path_to_pdf: is the parameter that will give access to the PDF File \n",
    "    we want to extract the content.\n",
    "    '''\n",
    "    \n",
    "    '''\n",
    "    PDFResourceManager is used to store shared resources such as fonts or images that \n",
    "    we might encounter in the files. \n",
    "    '''\n",
    "    \n",
    "    resource_manager = PDFResourceManager(caching=True)\n",
    "    \n",
    "    '''\n",
    "    create a string object that will contain the final text the representation of the pdf. \n",
    "    '''\n",
    "    out_text = StringIO()\n",
    "    \n",
    "    '''\n",
    "    UTF-8 is one of the most commonly used encodings, and Python often defaults to using it.\n",
    "    In our case, we are going to specify in order to avoid some encoding errors.\n",
    "    '''\n",
    "    codec = 'utf-8'\n",
    "    \n",
    "    \"\"\"\n",
    "    LAParams is the object containing the Layout parameters with a certain default value. \n",
    "    \"\"\"\n",
    "    laParams = LAParams()\n",
    "    \n",
    "    '''\n",
    "    Create a TextConverter Object, taking :\n",
    "    - ressource_manager,\n",
    "    - out_text \n",
    "    - layout parameters.\n",
    "    '''\n",
    "    text_converter = TextConverter(resource_manager, out_text, laparams=laParams)\n",
    "    fp = open(path_to_pdf, 'rb')\n",
    "    \n",
    "    '''\n",
    "    Create a PDF interpreter object taking: \n",
    "    - ressource_manager \n",
    "    - text_converter\n",
    "    '''\n",
    "    interpreter = PDFPageInterpreter(resource_manager, text_converter)\n",
    "\n",
    "    '''\n",
    "    We are going to process the content of each page of the original PDF File\n",
    "    '''\n",
    "    for page in PDFPage.get_pages(fp, pagenos=set(), maxpages=0, password=\"\", caching=True, check_extractable=True):\n",
    "        interpreter.process_page(page)\n",
    "\n",
    "    '''\n",
    "    Retrieve the entire contents of the “file” at any time \n",
    "    before the StringIO object’s close() method is called.\n",
    "    '''\n",
    "    text = out_text.getvalue()\n",
    "\n",
    "    '''\n",
    "    Closing all the ressources we previously opened\n",
    "    '''\n",
    "    fp.close()\n",
    "    text_converter.close()\n",
    "    out_text.close()\n",
    "    \n",
    "    '''\n",
    "    Return the final variable containing all the text of the PDF\n",
    "    '''\n",
    "    return text\n"
   ]
  },
  {
   "cell_type": "markdown",
   "id": "c5404ccc",
   "metadata": {},
   "source": [
    "Passo 5: Recertificar se o código está lendo o diretório corretamente"
   ]
  },
  {
   "cell_type": "code",
   "execution_count": 9,
   "id": "1ec2fdb0",
   "metadata": {},
   "outputs": [
    {
     "data": {
      "text/plain": [
       "'C:\\\\Users\\\\roger\\\\automacoes_notas'"
      ]
     },
     "execution_count": 9,
     "metadata": {},
     "output_type": "execute_result"
    }
   ],
   "source": [
    "os.chdir(caminho)\n",
    "os.getcwd()\n"
   ]
  },
  {
   "cell_type": "markdown",
   "id": "b04ad5f5",
   "metadata": {},
   "source": [
    "* Passo 6: Localizar o(s) número(s) da(s) Nota(s) Fiscal(is) dentro do(s) DACTE(s) e agrupá-los em tuplas dentro de uma lista"
   ]
  },
  {
   "cell_type": "code",
   "execution_count": 10,
   "id": "0037221f",
   "metadata": {
    "scrolled": true
   },
   "outputs": [
    {
     "name": "stdout",
     "output_type": "stream",
     "text": [
      "[('CTE_002764.pdf', '\\n000017296'), ('CTE_035816.pdf', '\\n000019751'), ('CTE_035856.pdf', '\\n000001281'), ('CTE_036161.pdf', '\\n000015452'), ('CTE_036288.pdf', '\\n000010769')]\n",
      "5\n"
     ]
    }
   ],
   "source": [
    "#NÃO ESQUECER DE A,TUALIZAR A LISTA COM OS CTe's\n",
    "lista=['CTE_002764.pdf',\n",
    "'CTE_035816.pdf',\n",
    "'CTE_035856.pdf',\n",
    "'CTE_036161.pdf',\n",
    "'CTE_036288.pdf']\n",
    "\n",
    "df_Cte_NF= pd.DataFrame()\n",
    "Cte=[]\n",
    "#NF= []\n",
    "#lista_Cte_NF= []\n",
    "\n",
    "t=0\n",
    "for i in lista:\n",
    "\n",
    "\n",
    "    nota= get_pdf_file_content(i)\n",
    "    loc= nota.find('NF - SÉRIE')\n",
    "    Cte.append((i,nota[loc+10:loc+20]))\n",
    "    \n",
    "    t=t+1\n",
    "    \n",
    "print(Cte)\n",
    "print(t)\n"
   ]
  },
  {
   "cell_type": "code",
   "execution_count": null,
   "id": "90ebc0e1",
   "metadata": {
    "scrolled": true
   },
   "outputs": [],
   "source": [
    "Passo 7: Editar nomenclatura das notas fiscais"
   ]
  },
  {
   "cell_type": "code",
   "execution_count": 12,
   "id": "12e12353",
   "metadata": {},
   "outputs": [
    {
     "name": "stdout",
     "output_type": "stream",
     "text": [
      "[('10769', '10769-1.pdf'), ('1281', '1281-1.pdf'), ('15452', '15452-1.pdf'), ('17296', '17296-0.pdf'), ('19751', '19751-1.pdf')]\n",
      "5\n"
     ]
    }
   ],
   "source": [
    "#Criar uma lista de tuplas onde cada par representa o Nº da NF(lida nos ctes) e Nº da NF(lida na listagem de medicao)\n",
    "\n",
    "all_files[:] \n",
    "NF_comparar= []\n",
    "#NF_completa= []\n",
    "\n",
    "for i in all_files[:5]:  #NÃO ESQUECER DE ATUALIZAR O RANGE DA LISTA ALL_FILES\n",
    "    x=str('\\\\')\n",
    "    posicao= i.find(x)\n",
    "    posicao_2= i.find('-')\n",
    "    c= i[posicao+1:posicao_2]\n",
    "    posicao_2= i.find('-')\n",
    "    #print(c)\n",
    "    NF_comparar.append((c,i[posicao+1:]))\n",
    "    #NF_completa.append(i[posicao+1:])\n",
    "    \n",
    "print(NF_comparar)\n",
    "print(len(NF_comparar))\n"
   ]
  },
  {
   "cell_type": "markdown",
   "id": "b5e831a0",
   "metadata": {},
   "source": [
    "contatenar o Nº do CTe com o Nº da NF se a NF lida no CTe tiver dispovínel na lista de medicao"
   ]
  },
  {
   "cell_type": "markdown",
   "id": "ce0bf094",
   "metadata": {},
   "source": [
    "Comparar as tuplas de par (NFs editado, NF original) com as tuplas de (CTes, NFs). Se o dado da posição a esquerda do par da tupla(NFs editado, NF original) for diferente do dado à direita do par da tupla (CTes, NFs), fazer a comparação com o próximo par do looping for. Se for igual, incrementar 'NF_' a frente no numero da nota. Desse modo, cada posição da lista \"nome final\" será composta com o par de nomenclatura CTE_XXXXXX.pdf NF_yyyyyy. "
   ]
  },
  {
   "cell_type": "code",
   "execution_count": 13,
   "id": "f7efb2d3",
   "metadata": {},
   "outputs": [
    {
     "name": "stdout",
     "output_type": "stream",
     "text": [
      "CTE_036288.pdf NF_10769\n",
      "CTE_035856.pdf NF_1281\n",
      "CTE_036161.pdf NF_15452\n",
      "CTE_002764.pdf NF_17296\n",
      "CTE_035816.pdf NF_19751\n",
      "5\n"
     ]
    }
   ],
   "source": [
    "nome_final=[]\n",
    "\n",
    "contador=0\n",
    "for i in NF_comparar:\n",
    "    for k in Cte:\n",
    "        j=0\n",
    "        if not i[0] in k[1]: \n",
    "            j=j+1\n",
    "        else:\n",
    "            print(k[0],f'NF_{i[0]}')\n",
    "            #Cte=(Cte,NF)\n",
    "            nome_final.append((k[0],f'NF_{i[0]}'))\n",
    "            contador = contador+1\n",
    "            \n",
    "print(contador) \n"
   ]
  },
  {
   "cell_type": "code",
   "execution_count": 14,
   "id": "bc96c844",
   "metadata": {
    "scrolled": false
   },
   "outputs": [
    {
     "name": "stdout",
     "output_type": "stream",
     "text": [
      "C:\\Users\\roger\\automacoes_notas\n"
     ]
    }
   ],
   "source": [
    "print(Path.cwd())\n"
   ]
  },
  {
   "cell_type": "markdown",
   "id": "2d70ff18",
   "metadata": {},
   "source": [
    "Passo 8: Renomear as NFs com o par de informações(Nº_CTe, Nº_NF)"
   ]
  },
  {
   "cell_type": "code",
   "execution_count": 15,
   "id": "82ee7a69",
   "metadata": {},
   "outputs": [
    {
     "name": "stdout",
     "output_type": "stream",
     "text": [
      "10769-1.pdf CTE_036288.pdf NF_10769-1.pdf\n",
      "1281-1.pdf CTE_035856.pdf NF_1281-1.pdf\n",
      "15452-1.pdf CTE_036161.pdf NF_15452-1.pdf\n",
      "17296-0.pdf CTE_002764.pdf NF_17296-0.pdf\n",
      "19751-1.pdf CTE_035816.pdf NF_19751-1.pdf\n",
      "Operação concluída\n",
      "20 if\n",
      "5 else\n"
     ]
    }
   ],
   "source": [
    "\n",
    "s=0\n",
    "v=0\n",
    "for i in NF_comparar:\n",
    "    for k in Cte:\n",
    "        j=0\n",
    "        if not i[0] in k[1]:\n",
    "            j=j+1\n",
    "            #print('if')\n",
    "            v=v+1\n",
    "            \n",
    "        else:\n",
    "            #print('else')\n",
    "            q= str(k[0]+' '+'NF_'+f'{i[1]}')\n",
    "            Path(f'{i[1]}').rename(f'{q}')\n",
    "            print(f'{i[1]}', f'{q}')\n",
    "            s=s+1\n",
    "\n",
    "print(\"Operação concluída\")\n",
    "print(v, \"if\")\n",
    "print(s, \"else\")\n"
   ]
  },
  {
   "cell_type": "code",
   "execution_count": 96,
   "id": "ecef1979",
   "metadata": {},
   "outputs": [
    {
     "data": {
      "text/plain": [
       "'CTE_160791.pdf NF_50903'"
      ]
     },
     "execution_count": 96,
     "metadata": {},
     "output_type": "execute_result"
    }
   ],
   "source": []
  }
 ],
 "metadata": {
  "kernelspec": {
   "display_name": "Python 3",
   "language": "python",
   "name": "python3"
  },
  "language_info": {
   "codemirror_mode": {
    "name": "ipython",
    "version": 3
   },
   "file_extension": ".py",
   "mimetype": "text/x-python",
   "name": "python",
   "nbconvert_exporter": "python",
   "pygments_lexer": "ipython3",
   "version": "3.8.8"
  }
 },
 "nbformat": 4,
 "nbformat_minor": 5
}
