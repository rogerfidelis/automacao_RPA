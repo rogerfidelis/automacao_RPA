{
 "cells": [
  {
   "cell_type": "markdown",
   "metadata": {},
   "source": [
    "* Passo 1: Importar os Módulos necessários para localizar os diretórios onde o python fará modificações"
   ]
  },
  {
   "cell_type": "code",
   "execution_count": 4,
   "metadata": {},
   "outputs": [],
   "source": [
    "from pathlib import Path \n",
    "import os\n"
   ]
  },
  {
   "cell_type": "markdown",
   "metadata": {},
   "source": [
    "* Passo 2: Localizar o diretório onde se encontram as pastas das medições semanais das DACTEs"
   ]
  },
  {
   "cell_type": "code",
   "execution_count": 18,
   "metadata": {},
   "outputs": [
    {
     "name": "stdout",
     "output_type": "stream",
     "text": [
      "Operação realizada\n"
     ]
    }
   ],
   "source": [
    "arquivos= r'C:\\Users\\roger\\automacoes_notas_copia'\n",
    "print('Operação realizada')\n",
    "caminho= Path(f'{arquivos}')\n"
   ]
  },
  {
   "cell_type": "markdown",
   "metadata": {},
   "source": [
    "* Passo 3: Rodar a função os.chdir para direcionar o codigo para dentro da pasta descrita no passo 2, e rodar a função os.getcwd() para certificar que o jupyter esta no diretório correto."
   ]
  },
  {
   "cell_type": "code",
   "execution_count": 19,
   "metadata": {},
   "outputs": [
    {
     "data": {
      "text/plain": [
       "'C:\\\\Users\\\\roger\\\\automacoes_notas_copia'"
      ]
     },
     "execution_count": 19,
     "metadata": {},
     "output_type": "execute_result"
    }
   ],
   "source": [
    "os.chdir(arquivos)\n",
    "os.getcwd()\n"
   ]
  },
  {
   "cell_type": "markdown",
   "metadata": {},
   "source": [
    "* Passo 4: Certificar que o código esta lendo todos os arquivos DACTE da pasta específicada. "
   ]
  },
  {
   "cell_type": "code",
   "execution_count": 20,
   "metadata": {},
   "outputs": [
    {
     "name": "stdout",
     "output_type": "stream",
     "text": [
      "C:\\Users\\roger\\automacoes_notas_copia\\33200560541240000710570010000358161006836166.PDF\n",
      "CTE_035816\n",
      "C:\\Users\\roger\\automacoes_notas_copia\\33200560541240000710570010000358561006839748.PDF\n",
      "CTE_035856\n",
      "C:\\Users\\roger\\automacoes_notas_copia\\33200560541240000710570020000027641006842470.PDF\n",
      "CTE_002764\n",
      "C:\\Users\\roger\\automacoes_notas_copia\\33200660541240000710570010000361611006870947.PDF\n",
      "CTE_036161\n",
      "C:\\Users\\roger\\automacoes_notas_copia\\33200660541240000710570010000362881006884548.PDF\n",
      "CTE_036288\n",
      "5\n"
     ]
    }
   ],
   "source": [
    "arquivos = caminho.iterdir()\n",
    "\n",
    "i=0\n",
    "for arquivo in arquivos:\n",
    "    a= str(arquivo)\n",
    "    if \".PDF\" in a:\n",
    "        print(f'{a[:]}')\n",
    "        print(f'CTE_{a[-20:-14]}')\n",
    "        i=i+1\n",
    "print(i)\n"
   ]
  },
  {
   "cell_type": "markdown",
   "metadata": {},
   "source": [
    "* Passo 5: Alterar a nomenclatura do arquivos DACTE para o número DACTE referente."
   ]
  },
  {
   "cell_type": "code",
   "execution_count": 5,
   "metadata": {},
   "outputs": [
    {
     "name": "stdout",
     "output_type": "stream",
     "text": [
      "automacoes_notas\\33200560541240000710570010000358161006836166.PDF\n",
      "automacoes_notas\\CTE_035816.pdf\n",
      "automacoes_notas\\33200560541240000710570010000358561006839748.PDF\n",
      "automacoes_notas\\CTE_035856.pdf\n",
      "automacoes_notas\\33200560541240000710570020000027641006842470.PDF\n",
      "automacoes_notas\\CTE_002764.pdf\n",
      "automacoes_notas\\33200660541240000710570010000361611006870947.PDF\n",
      "automacoes_notas\\CTE_036161.pdf\n",
      "automacoes_notas\\33200660541240000710570010000362881006884548.PDF\n",
      "automacoes_notas\\CTE_036288.pdf\n",
      "Operação concluída\n"
     ]
    }
   ],
   "source": [
    "arquivos = caminho.iterdir()\n",
    "\n",
    "for arquivo in arquivos:\n",
    "    a= str(arquivo)\n",
    "    if '.PDF' in a:\n",
    "        print(f'{a[:]}')\n",
    "        print(f'{medicao}\\CTE_{a[-20:-14]}.pdf')\n",
    "        Path(f'{a[:]}').rename(f'{medicao}\\CTE_{a[-20:-14]}.pdf')\n",
    "\n",
    "print(\"Operação concluída\")\n"
   ]
  }
 ],
 "metadata": {
  "celltoolbar": "Raw Cell Format",
  "kernelspec": {
   "display_name": "Python 3",
   "language": "python",
   "name": "python3"
  },
  "language_info": {
   "codemirror_mode": {
    "name": "ipython",
    "version": 3
   },
   "file_extension": ".py",
   "mimetype": "text/x-python",
   "name": "python",
   "nbconvert_exporter": "python",
   "pygments_lexer": "ipython3",
   "version": "3.8.8"
  }
 },
 "nbformat": 4,
 "nbformat_minor": 4
}
